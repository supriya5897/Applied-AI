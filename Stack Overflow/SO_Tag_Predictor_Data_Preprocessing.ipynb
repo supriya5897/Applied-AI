{
 "cells": [
  {
   "cell_type": "code",
   "execution_count": null,
   "metadata": {},
   "outputs": [],
   "source": [
    "import warnings\n",
    "warnings.filterwarnings(\"ignore\")\n",
    "import pandas as pd\n",
    "import sqlite3\n",
    "import csv\n",
    "import matplotlib.pyplot as plt\n",
    "import seaborn as sns\n",
    "import numpy as np\n",
    "#command to install: conda install -c conda-forge wordcloud\n",
    "from wordcloud import WordCloud\n",
    "import re\n",
    "import os\n",
    "from sqlalchemy import create_engine # database connection\n",
    "import datetime as dt\n",
    "from nltk.corpus import stopwords\n",
    "from nltk.tokenize import word_tokenize\n",
    "from nltk.stem.snowball import SnowballStemmer\n",
    "from sklearn.feature_extraction.text import CountVectorizer\n",
    "from sklearn.feature_extraction.text import TfidfVectorizer\n",
    "from sklearn.multiclass import OneVsRestClassifier\n",
    "from sklearn.linear_model import SGDClassifier\n",
    "from sklearn import metrics\n",
    "from sklearn.metrics import f1_score,precision_score,recall_score\n",
    "from sklearn import svm\n",
    "from sklearn.linear_model import LogisticRegression\n",
    "#from skmultilearn.adapt import mlknn\n",
    "#from skmultilearn.problem_transform import ClassifierChain\n",
    "#from skmultilearn.problem_transform import BinaryRelevance\n",
    "#from skmultilearn.problem_transform import LabelPowerset\n",
    "from sklearn.naive_bayes import GaussianNB\n",
    "from datetime import datetime"
   ]
  },
  {
   "cell_type": "markdown",
   "metadata": {},
   "source": [
    "<h3> 3.3 Cleaning and preprocessing of Questions </h3>"
   ]
  },
  {
   "cell_type": "markdown",
   "metadata": {},
   "source": [
    "<h3> 3.3.1 Preprocessing </h3>"
   ]
  },
  {
   "cell_type": "markdown",
   "metadata": {},
   "source": [
    "<ol> \n",
    "    <li> Sample 1M data points </li>\n",
    "    <li> Separate out code-snippets from Body </li>\n",
    "    <li> Remove Spcial characters from Question title and description (not in code)</li>\n",
    "    <li> Remove stop words (Except 'C') </li>\n",
    "    <li> Remove HTML Tags </li>\n",
    "    <li> Convert all the characters into small letters </li>\n",
    "    <li> Use SnowballStemmer to stem the words </li>\n",
    "</ol>"
   ]
  },
  {
   "cell_type": "code",
   "execution_count": null,
   "metadata": {},
   "outputs": [],
   "source": [
    "def striphtml(data):\n",
    "    cleanr = re.compile('<.*?>')\n",
    "    cleantext = re.sub(cleanr, ' ', str(data))\n",
    "    return cleantext\n",
    "stop_words = set(stopwords.words('english'))\n",
    "stemmer = SnowballStemmer(\"english\")"
   ]
  },
  {
   "cell_type": "code",
   "execution_count": null,
   "metadata": {},
   "outputs": [],
   "source": [
    "#http://www.sqlitetutorial.net/sqlite-python/create-tables/\n",
    "#create a connection object using connect() function of the sqlite module\n",
    "def create_connection(db_file):\n",
    "    \"\"\" create a database connection to the SQLite database\n",
    "        specified by db_file\n",
    "    :param db_file: database file\n",
    "    :return: Connection object or None\n",
    "    \"\"\"\n",
    "    try:\n",
    "        conn = sqlite3.connect(db_file)\n",
    "        return conn\n",
    "    except Error as e:\n",
    "        print(e)\n",
    "        \n",
    "    return None\n",
    "\n",
    "#create a cursor object by calling the cursor method of connection object\n",
    "#pass the create table sql statement to the execute() method of cursor object and it executes the statement\n",
    "def create_table(conn, create_table_sql):\n",
    "    \"\"\" create a table from the create_table_sql statement\n",
    "    :param conn: Connection object\n",
    "    :param create_table_sql: a CREATE TABLE statement\n",
    "    :return:\n",
    "    \"\"\"\n",
    "    try:\n",
    "        c = conn.cursor()\n",
    "        c.execute(create_table_sql)\n",
    "    except Error as e:\n",
    "        print(e)\n",
    "        \n",
    "\n",
    "#check if the created table exists in the database\n",
    "def checkTableExists(dbcon):\n",
    "    cursr = dbcon.cursor()\n",
    "    str = \"select name from sqlite_master where type='table'\"\n",
    "    table_names = cursr.execute(str)\n",
    "    print(\"Tables in the database are: \")\n",
    "    tables = table_names.fetchall()\n",
    "    print(tables[0][0])\n",
    "    return(len(tables))\n",
    "\n",
    "#create database and table in it\n",
    "def create_database_table(database, query):\n",
    "    conn = create_connection(database)\n",
    "    if conn is not None:\n",
    "        create_table(conn, query)\n",
    "        checkTableExists(conn)\n",
    "    else:\n",
    "        print(\"Error! Cannot create the database connection.\")\n",
    "    conn.close()\n",
    "    \n",
    "sql_create_table = \"\"\"CREATE TABLE IF NOT EXISTS QuestionsProcessed (question text NOT NULL, code text, tags text, words_pre integer, words_post integer, is_code integer);\"\"\"\n",
    "create_database_table(\"Processed.db\", sql_create_table)\n"
   ]
  },
  {
   "cell_type": "code",
   "execution_count": null,
   "metadata": {},
   "outputs": [],
   "source": [
    "# http://www.sqlitetutorial.net/sqlite-delete/\n",
    "# https://stackoverflow.com/questions/2279706/select-random-row-from-a-sqlite-table\n",
    "start = dt.datetime.now()\n",
    "read_db = \"train_no_dup.db\"\n",
    "write_db = \"Processed.db\"\n",
    "\n",
    "if os.path.isfile(read_db):\n",
    "    conn_r = create_connection(read_db)\n",
    "    if conn_r is not None:\n",
    "        reader = conn_r.cursor()\n",
    "        reader.execute(\"SELECT Title, Body, Tags FROM no_dup_train ORDER BY RANDOM() LIMIT 1000000;\")\n",
    "        \n",
    "if os.path.isfile(write_db):\n",
    "    conn_w = create_connection(write_db)\n",
    "    if conn_w is not None:\n",
    "        tables = checkTableExists(conn_w)\n",
    "        writer = conn_w.cursor()\n",
    "        if tables != 0:\n",
    "            writer.execute(\"DELETE FROM QuestionsProcessed WHERE 1;\")\n",
    "            print(\"Cleared all the rows\")\n",
    "        \n",
    "print(\"Time taken to run this cell: \", dt.datetime.now() - start)"
   ]
  },
  {
   "cell_type": "code",
   "execution_count": null,
   "metadata": {},
   "outputs": [],
   "source": [
    "#dont run this cell\n",
    "#to check what the sql statement output is\n",
    "start = dt.datetime.now()\n",
    "write_db = \"Processed.db\"\n",
    "if os.path.isfile(write_db):\n",
    "    conn_w = sqlite3.connect(write_db)\n",
    "    output = pd.read_sql_query(\"SELECT * FROM QuestionsProcessed WHERE 1\", conn_w)\n",
    "    conn_w.close()\n",
    "            \n",
    "        #print(\"Oh this is the ouput\")\n",
    "print(\"Time taken to run this cell: \", dt.datetime.now() - start)"
   ]
  },
  {
   "cell_type": "code",
   "execution_count": null,
   "metadata": {},
   "outputs": [],
   "source": [
    "output"
   ]
  },
  {
   "cell_type": "code",
   "execution_count": null,
   "metadata": {},
   "outputs": [],
   "source": [
    "type(reader)"
   ]
  },
  {
   "cell_type": "code",
   "execution_count": null,
   "metadata": {},
   "outputs": [],
   "source": [
    "for row in reader:\n",
    "    print(row)"
   ]
  },
  {
   "cell_type": "code",
   "execution_count": null,
   "metadata": {},
   "outputs": [],
   "source": [
    "for row in reader:\n",
    "    print(row[0][:5])"
   ]
  },
  {
   "cell_type": "code",
   "execution_count": null,
   "metadata": {},
   "outputs": [],
   "source": [
    "for row in reader:\n",
    "    print(row[1])"
   ]
  },
  {
   "cell_type": "code",
   "execution_count": null,
   "metadata": {},
   "outputs": [],
   "source": [
    "for row in reader:\n",
    "    print(row[1][2])"
   ]
  },
  {
   "cell_type": "code",
   "execution_count": null,
   "metadata": {},
   "outputs": [],
   "source": [
    "dir(reader)"
   ]
  },
  {
   "cell_type": "code",
   "execution_count": null,
   "metadata": {},
   "outputs": [],
   "source": [
    "type(reader)"
   ]
  },
  {
   "cell_type": "markdown",
   "metadata": {},
   "source": [
    "__ we create a new data base to store the sampled and preprocessed questions __"
   ]
  },
  {
   "cell_type": "code",
   "execution_count": null,
   "metadata": {},
   "outputs": [],
   "source": [
    "import nltk\n",
    "nltk.download('punkt')"
   ]
  },
  {
   "cell_type": "code",
   "execution_count": null,
   "metadata": {},
   "outputs": [],
   "source": [
    "#http://www.bernzilla.com/2008/05/13/selecting-a-random-row-from-an-sqlite-table/\n",
    "#https://pynative.com/python-cursor-fetchall-fetchmany-fetchone-to-read-rows-from-table/\n",
    "\n",
    "start = dt.datetime.now()\n",
    "preprocessed_data_list = []\n",
    "reader.fetchone()\n",
    "questions_with_code = 0\n",
    "len_pre = 0\n",
    "len_post = 0\n",
    "questions_processed = 0\n",
    "\n",
    "for row in reader:\n",
    "    is_code = 0\n",
    "    title, question, tags = row[0], row[1], row[2]\n",
    "    \n",
    "    if \"<code>\" in question:\n",
    "        is_code = 1\n",
    "        questions_with_code += 1\n",
    "    x=len(question)+len(title)\n",
    "    len_pre += x\n",
    "    \n",
    "    code = str(re.findall(r'<code>(.*?)</code>', question, flags = re.DOTALL))\n",
    "    question = re.sub(\"<code>(.*?)</code>\", \"\", question, flags = re.MULTILINE|re.DOTALL)\n",
    "    question = striphtml(question.encode('utf-8'))\n",
    "    title = title.encode('utf-8')\n",
    "    question = str(title)+\" \"+str(question)\n",
    "    question = re.sub(r'[^A-Za-z]+',' ',question)\n",
    "    words = word_tokenize(str(question.lower()))\n",
    "    \n",
    "    #Removing all single letter and and stopwords from question except for the letter 'c'\n",
    "    question = ' '.join(str(stemmer.stem(j)) for j in words if j not in stop_words and (len(j)!=1 or j=='c'))\n",
    "    len_post+=len(question)\n",
    "    tup = (question, code, tags, x, len(question), is_code)\n",
    "    questions_processed+=1\n",
    "    writer.execute(\"insert into QuestionsProcessed(question, code, tags, words_pre, words_post,is_code) values(?,?,?,?,?,?)\",tup)\n",
    "    if(questions_processed%100000==0):\n",
    "        print(\"number of questions completed=\",questions_processed)\n",
    "        \n",
    "no_dup_avg_len_pre = (len_pre*1.0)/questions_processed\n",
    "no_dup_avg_len_post = (len_post*1.0)/questions_processed\n",
    "\n",
    "print(\"Average length of questions(Title+Body) before processing: %d\"%no_dup_avg_len_pre)\n",
    "print(\"Average length of questions(Title+Body) after processing: %d\"%no_dup_avg_len_post)\n",
    "print(\"Percentage of questions containing code: %d\"%((questions_with_code*100.0)/questions_processed))\n",
    "print(\"Time taken to run this cell: \", dt.datetime.now() - start)"
   ]
  },
  {
   "cell_type": "code",
   "execution_count": null,
   "metadata": {},
   "outputs": [],
   "source": [
    "# dont forget to close the connections, or else you will end up with locks\n",
    "conn_r.commit()\n",
    "conn_w.commit()\n",
    "conn_r.close()\n",
    "conn_w.close()"
   ]
  },
  {
   "cell_type": "code",
   "execution_count": null,
   "metadata": {},
   "outputs": [],
   "source": [
    "if os.path.isfile(write_db):\n",
    "    conn_r = create_connection(write_db)\n",
    "    if conn_r is not None:\n",
    "        reader =conn_r.cursor()\n",
    "        reader.execute(\"SELECT question From QuestionsProcessed LIMIT 10\")\n",
    "        print(\"Questions after preprocessed\")\n",
    "        print('='*100)\n",
    "        reader.fetchone()\n",
    "        for row in reader:\n",
    "            print(row)\n",
    "            print('-'*100)\n",
    "conn_r.commit()\n",
    "conn_r.close()"
   ]
  },
  {
   "cell_type": "code",
   "execution_count": null,
   "metadata": {},
   "outputs": [],
   "source": [
    "start = dt.datetime.now()\n",
    "write_db = 'Processed.db'\n",
    "if os.path.isfile(write_db):\n",
    "    conn_r = create_connection(write_db)\n",
    "    if conn_r is not None:\n",
    "        data_in_table = pd.read_sql_query(\"\"\"SELECT * FROM QuestionsProcessed LIMIT 10\"\"\", conn_r)\n",
    "conn_r.close()\n",
    "print(\"Time taken to run this cell: \", dt.datetime.now() - start)"
   ]
  },
  {
   "cell_type": "code",
   "execution_count": null,
   "metadata": {},
   "outputs": [],
   "source": [
    "data_in_table.head()"
   ]
  },
  {
   "cell_type": "code",
   "execution_count": null,
   "metadata": {},
   "outputs": [],
   "source": [
    "#Taking 1 Million entries to a dataframe.\n",
    "start = dt.datetime.now()\n",
    "write_db = 'Processed.db'\n",
    "if os.path.isfile(write_db):\n",
    "    conn_r = create_connection(write_db)\n",
    "    if conn_r is not None:\n",
    "        preprocessed_data = pd.read_sql_query(\"\"\"SELECT question, Tags FROM QuestionsProcessed\"\"\", conn_r)\n",
    "conn_r.commit()\n",
    "conn_r.close()\n",
    "print(\"Time taken to run this cell is: \",dt.datetime.now()-start)"
   ]
  },
  {
   "cell_type": "code",
   "execution_count": null,
   "metadata": {},
   "outputs": [],
   "source": [
    "preprocessed_data.head()"
   ]
  },
  {
   "cell_type": "code",
   "execution_count": null,
   "metadata": {},
   "outputs": [],
   "source": [
    "print(\"number of data points in sample :\", preprocessed_data.shape[0])\n",
    "print(\"number of dimensions :\", preprocessed_data.shape[1])"
   ]
  }
 ],
 "metadata": {
  "kernelspec": {
   "display_name": "Python 3",
   "language": "python",
   "name": "python3"
  },
  "language_info": {
   "codemirror_mode": {
    "name": "ipython",
    "version": 3
   },
   "file_extension": ".py",
   "mimetype": "text/x-python",
   "name": "python",
   "nbconvert_exporter": "python",
   "pygments_lexer": "ipython3",
   "version": "3.8.5"
  }
 },
 "nbformat": 4,
 "nbformat_minor": 4
}
