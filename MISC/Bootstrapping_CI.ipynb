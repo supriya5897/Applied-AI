{
 "cells": [
  {
   "cell_type": "markdown",
   "metadata": {},
   "source": [
    "# Empirical bootstrap based Confidence Interval"
   ]
  },
  {
   "cell_type": "code",
   "execution_count": 4,
   "metadata": {},
   "outputs": [
    {
     "data": {
      "image/png": "[encoded data removed]",
      "text/plain": [
       "<Figure size 432x288 with 1 Axes>"
      ]
     },
     "metadata": {
      "needs_background": "light"
     },
     "output_type": "display_data"
    },
    {
     "name": "stdout",
     "output_type": "stream",
     "text": [
      "2.500000000000002\n",
      "97.5\n",
      "95.0 confidence interval 162.0 and 176.0\n"
     ]
    }
   ],
   "source": [
    "import numpy\n",
    "from sklearn.utils import resample\n",
    "from matplotlib import pyplot\n",
    "#load dataset\n",
    "x=numpy.array([180,162,158,172,168,150,171,183,165,176])\n",
    "\n",
    "#configure bootstrap\n",
    "n_iterations = 1000\n",
    "n_size = int(len(x))\n",
    "\n",
    "#load samples\n",
    "\n",
    "#https://scikit-learn.org/stable/modules/generated/sklearn.utils.resample.html\n",
    "#https://matplotlib.org/3.2.1/api/_as_gen/matplotlib.pyplot.hist.html\n",
    "#run bootstrap\n",
    "medians=list()\n",
    "for i in range(0,n_iterations):\n",
    "    s=resample(x,n_samples=n_size)\n",
    "    #print(s)\n",
    "    m=numpy.median(s)\n",
    "    #print(m)\n",
    "    medians.append(m)\n",
    "    \n",
    "    \n",
    "#plot scores\n",
    "pyplot.hist(medians)\n",
    "pyplot.show()\n",
    "\n",
    "#C.I of median \n",
    "alpha=0.95\n",
    "p=((1-alpha)/2.0)*100 #2.5\n",
    "lower=numpy.percentile(medians,p)\n",
    "print(p)\n",
    "\n",
    "p=(alpha+((1-alpha)/2.0))*100\n",
    "upper=numpy.percentile(medians,p)\n",
    "print(p)\n",
    "\n",
    "print('%.1f confidence interval %.1f and %.1f' % (alpha*100, lower, upper))\n"
   ]
  }
 ],
 "metadata": {
  "kernelspec": {
   "display_name": "Python 3",
   "language": "python",
   "name": "python3"
  },
  "language_info": {
   "codemirror_mode": {
    "name": "ipython",
    "version": 3
   },
   "file_extension": ".py",
   "mimetype": "text/x-python",
   "name": "python",
   "nbconvert_exporter": "python",
   "pygments_lexer": "ipython3",
   "version": "3.8.5"
  }
 },
 "nbformat": 4,
 "nbformat_minor": 2
}
