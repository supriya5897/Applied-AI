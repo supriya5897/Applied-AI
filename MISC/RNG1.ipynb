{
 "cells": [
  {
   "cell_type": "code",
   "execution_count": 14,
   "metadata": {},
   "outputs": [
    {
     "data": {
      "text/plain": [
       "0.1502215404773316"
      ]
     },
     "execution_count": 14,
     "metadata": {},
     "output_type": "execute_result"
    }
   ],
   "source": [
    "from random import random\n",
    "#generates a random number between 0 and 1\n",
    "random()"
   ]
  },
  {
   "cell_type": "code",
   "execution_count": 20,
   "metadata": {},
   "outputs": [
    {
     "name": "stdout",
     "output_type": "stream",
     "text": [
      "(150, 4)\n"
     ]
    }
   ],
   "source": [
    "from sklearn import datasets\n",
    "iris=datasets.load_iris()\n",
    "d=iris.data\n",
    "print(d.shape)"
   ]
  },
  {
   "cell_type": "code",
   "execution_count": 45,
   "metadata": {},
   "outputs": [
    {
     "name": "stdout",
     "output_type": "stream",
     "text": [
      "0.2\n",
      "27\n",
      "[array([4.7, 3.2, 1.3, 0.2]), array([5.7, 3.8, 1.7, 0.3]), array([4.6, 3.6, 1. , 0.2]), array([4.8, 3.1, 1.6, 0.2]), array([5.5, 3.5, 1.3, 0.2]), array([5.7, 2.8, 4.5, 1.3]), array([4.9, 2.4, 3.3, 1. ]), array([5.6, 2.9, 3.6, 1.3]), array([6.7, 3.1, 4.4, 1.4]), array([6.6, 3. , 4.4, 1.4]), array([5.7, 2.6, 3.5, 1. ]), array([5.5, 2.5, 4. , 1.3]), array([5.5, 2.6, 4.4, 1.2]), array([6.1, 3. , 4.6, 1.4]), array([5. , 2.3, 3.3, 1. ]), array([6.3, 2.9, 5.6, 1.8]), array([6.5, 3. , 5.5, 1.8]), array([5.6, 2.8, 4.9, 2. ]), array([7.7, 2.8, 6.7, 2. ]), array([6.3, 2.7, 4.9, 1.8]), array([6.4, 2.8, 5.6, 2.1]), array([7.7, 3. , 6.1, 2.3]), array([6.3, 3.4, 5.6, 2.4]), array([6.7, 3.1, 5.6, 2.4]), array([5.8, 2.7, 5.1, 1.9]), array([6.5, 3. , 5.2, 2. ]), array([5.9, 3. , 5.1, 1.8])]\n"
     ]
    }
   ],
   "source": [
    "#collecting 30 random samples from 150 population\n",
    "m=150\n",
    "n=30\n",
    "p=n/m\n",
    "print(p)\n",
    "sample_dataset=[]\n",
    "for i in range(0,m):\n",
    "    a=random()\n",
    "    if a<=p:\n",
    "        sample_dataset.append(d[i])\n",
    "\n",
    "print(len(sample_dataset))\n",
    "print(sample_dataset)"
   ]
  }
 ],
 "metadata": {
  "kernelspec": {
   "display_name": "Python 3",
   "language": "python",
   "name": "python3"
  },
  "language_info": {
   "codemirror_mode": {
    "name": "ipython",
    "version": 3
   },
   "file_extension": ".py",
   "mimetype": "text/x-python",
   "name": "python",
   "nbconvert_exporter": "python",
   "pygments_lexer": "ipython3",
   "version": "3.8.5"
  }
 },
 "nbformat": 4,
 "nbformat_minor": 2
}
